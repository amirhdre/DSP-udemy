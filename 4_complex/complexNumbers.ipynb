{
 "cells": [
  {
   "cell_type": "code",
   "execution_count": 3,
   "metadata": {},
   "outputs": [],
   "source": [
    "import numpy as np\n",
    "import cmath\n",
    "import math\n",
    "import matplotlib.pyplot as plt\n",
    "\n",
    "plt.rcParams.update(\n",
    "    {\n",
    "        \"lines.color\": \"white\",\n",
    "        \"patch.edgecolor\": \"white\",\n",
    "        \"text.color\": \"black\",\n",
    "        \"axes.facecolor\": \"white\",\n",
    "        \"axes.edgecolor\": \"lightgray\",\n",
    "        \"axes.labelcolor\": \"white\",\n",
    "        \"legend.labelcolor\": \"black\",\n",
    "        \"xtick.color\": \"white\",\n",
    "        \"ytick.color\": \"white\",\n",
    "        \"text.color\": \"white\",\n",
    "        \"grid.color\": \"lightgray\",\n",
    "        \"figure.facecolor\": \"black\",\n",
    "        \"figure.edgecolor\": \"black\",\n",
    "        \"savefig.facecolor\": \"black\",\n",
    "        \"savefig.edgecolor\": \"black\",\n",
    "    }\n",
    ")\n"
   ]
  },
  {
   "cell_type": "markdown",
   "metadata": {},
   "source": [
    "\n",
    "--- \n",
    "# VIDEO: From the number line to the complex number plane\n",
    "---\n"
   ]
  },
  {
   "cell_type": "code",
   "execution_count": 5,
   "metadata": {},
   "outputs": [
    {
     "name": "stdout",
     "output_type": "stream",
     "text": [
      "Real part is 4.0 and imaginary part is 3.0.\n"
     ]
    }
   ],
   "source": [
    "## the imaginary operator\n",
    "\n",
    "# Python differs from MATLAB here:\n",
    "1j\n",
    "cmath.sqrt(-1)  # note the cmath module\n",
    "\n",
    "\n",
    "## creating complex numbers\n",
    "z = 4 + 3j\n",
    "z = 4 + 3 * 1j\n",
    "z = 4 + 3 * cmath.sqrt(-1)\n",
    "z = complex(4, 3)\n",
    "\n",
    "print(\n",
    "    \"Real part is \"\n",
    "    + str(np.real(z))\n",
    "    + \" and imaginary part is \"\n",
    "    + str(np.imag(z))\n",
    "    + \".\"\n",
    ")\n"
   ]
  },
  {
   "cell_type": "code",
   "execution_count": 6,
   "metadata": {},
   "outputs": [
    {
     "data": {
      "image/png": "[encoded data removed]",
      "text/plain": [
       "<Figure size 432x288 with 1 Axes>"
      ]
     },
     "metadata": {},
     "output_type": "display_data"
    }
   ],
   "source": [
    "## plotting a complex number\n",
    "\n",
    "plt.plot(np.real(z), np.imag(z), \"rs\")\n",
    "plt.xlim([-5, 5])\n",
    "plt.ylim([-5, 5])\n",
    "plt.plot([-5, 5], [0, 0], \"k\")\n",
    "plt.plot([0, 0], [-5, 5], \"k\")\n",
    "plt.xlabel(\"real axis\")\n",
    "plt.ylabel(\"imag axis\")\n",
    "\n",
    "plt.show()\n"
   ]
  },
  {
   "cell_type": "markdown",
   "metadata": {},
   "source": [
    "\n",
    "---\n",
    "# VIDEO: Addition and subtraction with complex numbers\n",
    "---\n"
   ]
  },
  {
   "cell_type": "code",
   "execution_count": 7,
   "metadata": {},
   "outputs": [
    {
     "name": "stdout",
     "output_type": "stream",
     "text": [
      "(7+7j)\n",
      "(7+7j)\n",
      "(1+3j)\n",
      "(1+3j)\n"
     ]
    }
   ],
   "source": [
    "# create two complex numbers\n",
    "a = complex(4, 5)\n",
    "b = 3 + 2j\n",
    "\n",
    "# let Python do the hard work\n",
    "z1 = a + b\n",
    "print(z1)\n",
    "\n",
    "# the \"manual\" way\n",
    "z2 = complex(np.real(a) + np.real(b), np.imag(a) + np.imag(b))\n",
    "print(z2)\n",
    "\n",
    "## subtraction is the same as addition...\n",
    "\n",
    "# let MATLAB do the hard work\n",
    "z3 = a - b\n",
    "print(z3)\n",
    "\n",
    "# the \"manual\" way\n",
    "z4 = complex(np.real(a) - np.real(b), np.imag(a) - np.imag(b))\n",
    "print(z4)\n"
   ]
  },
  {
   "cell_type": "markdown",
   "metadata": {},
   "source": [
    "\n",
    "---\n",
    "# Multiplication with complex numbers\n",
    "---\n"
   ]
  },
  {
   "cell_type": "code",
   "execution_count": 8,
   "metadata": {},
   "outputs": [
    {
     "name": "stdout",
     "output_type": "stream",
     "text": [
      "(2+23j)\n",
      "(12+10j) -- the WRONG way!\n",
      "(2+23j)\n",
      "(2+23j)\n"
     ]
    }
   ],
   "source": [
    "# create two complex numbers\n",
    "a = complex(4, 5)\n",
    "b = 3 + 2j\n",
    "\n",
    "# let MATLAB do the hard work\n",
    "z1 = a * b\n",
    "print(z1)\n",
    "\n",
    "# the intuitive-but-WRONG way\n",
    "z2 = complex(np.real(a) * np.real(b), np.imag(a) * np.imag(b))\n",
    "print(str(z2) + \" -- the WRONG way!\")\n",
    "\n",
    "# the less-intuitive-but-CORRECT way\n",
    "ar = np.real(a)\n",
    "ai = np.imag(a)\n",
    "br = np.real(b)\n",
    "bi = np.imag(b)\n",
    "\n",
    "z3 = (ar + 1j * ai) * (br + 1j * bi)\n",
    "z4 = (ar * br) + (ar * (1j * bi)) + ((1j * ai) * br) + ((1j * ai) * (1j * bi))\n",
    "\n",
    "print(z3)\n",
    "print(z4)\n"
   ]
  },
  {
   "cell_type": "markdown",
   "metadata": {},
   "source": [
    "\n",
    "---\n",
    "# VIDEO: The complex conjugate\n",
    "---\n"
   ]
  },
  {
   "cell_type": "code",
   "execution_count": 9,
   "metadata": {},
   "outputs": [
    {
     "name": "stdout",
     "output_type": "stream",
     "text": [
      "(4+5j)\n",
      "(4+5j)\n",
      "(41+0j)=41.0=41.0\n"
     ]
    }
   ],
   "source": [
    "# create a complex number\n",
    "\n",
    "a = complex(4, -5)\n",
    "\n",
    "# let Python do the hard work\n",
    "ac1 = np.conj(a)\n",
    "print(ac1)\n",
    "\n",
    "# the \"manual\" way\n",
    "ac2 = complex(np.real(a), -np.imag(a))\n",
    "print(ac2)\n",
    "\n",
    "\n",
    "## magnitude squared of a complex number\n",
    "amag1 = a * np.conj(\n",
    "    a\n",
    ")  # note that Python keeps this as type==complex, although the imaginary part is zero\n",
    "amag2 = np.real(a) ** 2 + np.imag(a) ** 2\n",
    "amag3 = np.abs(a) ** 2\n",
    "\n",
    "print(str(amag1) + \"=\" + str(amag2) + \"=\" + str(amag3))\n"
   ]
  },
  {
   "cell_type": "markdown",
   "metadata": {},
   "source": [
    "\n",
    "---\n",
    "# VIDEO: Division with complex numbers\n",
    "---\n"
   ]
  },
  {
   "cell_type": "code",
   "execution_count": 10,
   "metadata": {},
   "outputs": [
    {
     "name": "stdout",
     "output_type": "stream",
     "text": [
      "(-0.10619469026548672-0.5929203539823009j)\n",
      "(-0.10619469026548672-0.5929203539823009j)\n"
     ]
    }
   ],
   "source": [
    "# create two complex numbers\n",
    "a = complex(4, -5)\n",
    "b = complex(7, 8)\n",
    "\n",
    "# let Python do the hard work\n",
    "adb1 = a / b\n",
    "\n",
    "# the \"manual\" way\n",
    "adb2 = (a * np.conj(b)) / (b * np.conj(b))\n",
    "\n",
    "print(adb1)\n",
    "print(adb2)\n"
   ]
  },
  {
   "cell_type": "markdown",
   "metadata": {},
   "source": [
    "\n",
    "---\n",
    "# VIDEO: Magnitude and phase of complex numbers\n",
    "---\n"
   ]
  },
  {
   "cell_type": "code",
   "execution_count": 11,
   "metadata": {},
   "outputs": [
    {
     "data": {
      "image/png": "[encoded data removed]",
      "text/plain": [
       "<Figure size 432x288 with 1 Axes>"
      ]
     },
     "metadata": {},
     "output_type": "display_data"
    },
    {
     "data": {
      "image/png": "[encoded data removed]",
      "text/plain": [
       "<Figure size 432x288 with 1 Axes>"
      ]
     },
     "metadata": {},
     "output_type": "display_data"
    }
   ],
   "source": [
    "# create a complex number\n",
    "z = 4 + 3j\n",
    "\n",
    "# plot the complex number\n",
    "plt.plot(np.real(z), np.imag(z), \"ks\")\n",
    "\n",
    "# make plot look nicer\n",
    "plt.xlim([-5, 5])\n",
    "plt.ylim([-5, 5])\n",
    "plt.plot([-5, 5], [0, 0], \"k\")\n",
    "plt.plot([0, 0], [-5, 5], \"k\")\n",
    "plt.xlabel(\"real axis\")\n",
    "plt.ylabel(\"imag axis\")\n",
    "plt.show()\n",
    "\n",
    "\n",
    "# magnitude of the number (distance to origin)\n",
    "magZ1 = np.sqrt(np.real(z) ** 2 + np.imag(z) ** 2)\n",
    "magZ2 = np.abs(z)\n",
    "\n",
    "# angle of the line relative to positive real axis\n",
    "angZ1 = math.atan2(np.imag(z), np.real(z))\n",
    "angZ2 = np.angle(z)\n",
    "\n",
    "# draw a line using polar notation\n",
    "plt.polar([0, angZ1], [0, magZ1], \"r\")\n",
    "\n",
    "plt.show()\n"
   ]
  }
 ],
 "metadata": {
  "kernelspec": {
   "display_name": "Python 3 (ipykernel)",
   "language": "python",
   "name": "python3"
  },
  "language_info": {
   "codemirror_mode": {
    "name": "ipython",
    "version": 3
   },
   "file_extension": ".py",
   "mimetype": "text/x-python",
   "name": "python",
   "nbconvert_exporter": "python",
   "pygments_lexer": "ipython3",
   "version": "3.8.11"
  }
 },
 "nbformat": 4,
 "nbformat_minor": 2
}
