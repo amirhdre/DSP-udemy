{
 "cells": [
  {
   "cell_type": "code",
   "execution_count": 2,
   "metadata": {},
   "outputs": [],
   "source": [
    "import numpy as np\n",
    "import matplotlib.pyplot as plt\n",
    "import pandas as pd\n",
    "from scipy.optimize import curve_fit\n"
   ]
  },
  {
   "cell_type": "code",
   "execution_count": 3,
   "metadata": {},
   "outputs": [],
   "source": [
    "x_data = np.array(\n",
    "    [\n",
    "        0.0,\n",
    "        0.15789474,\n",
    "        0.31578947,\n",
    "        0.47368421,\n",
    "        0.63157895,\n",
    "        0.78947368,\n",
    "        0.94736842,\n",
    "        1.10526316,\n",
    "        1.26315789,\n",
    "        1.42105263,\n",
    "        1.57894737,\n",
    "        1.73684211,\n",
    "        1.89473684,\n",
    "        2.05263158,\n",
    "        2.21052632,\n",
    "        2.36842105,\n",
    "        2.52631579,\n",
    "        2.68421053,\n",
    "        2.84210526,\n",
    "        3.0,\n",
    "    ]\n",
    ")\n",
    "y_data = np.array(\n",
    "    [\n",
    "        2.95258285,\n",
    "        2.49719803,\n",
    "        -2.1984975,\n",
    "        -4.88744346,\n",
    "        -7.41326345,\n",
    "        -8.44574157,\n",
    "        -10.01878504,\n",
    "        -13.83743553,\n",
    "        -12.91548145,\n",
    "        -15.41149046,\n",
    "        -14.93516299,\n",
    "        -13.42514157,\n",
    "        -14.12110495,\n",
    "        -17.6412464,\n",
    "        -16.1275509,\n",
    "        -16.11533771,\n",
    "        -15.66076021,\n",
    "        -13.48938865,\n",
    "        -11.33918701,\n",
    "        -11.70467566,\n",
    "    ]\n",
    ")\n"
   ]
  },
  {
   "cell_type": "code",
   "execution_count": 4,
   "metadata": {},
   "outputs": [
    {
     "data": {
      "image/png": "[encoded data removed]",
      "text/plain": [
       "<Figure size 432x288 with 1 Axes>"
      ]
     },
     "metadata": {
      "needs_background": "light"
     },
     "output_type": "display_data"
    }
   ],
   "source": [
    "plt.figure()\n",
    "plt.plot(x_data,y_data,'o')\n",
    "plt.show()"
   ]
  },
  {
   "cell_type": "markdown",
   "metadata": {},
   "source": [
    "Here is a model where $\\beta=(a,b,c)$ and\n",
    "$$ f(x,\\beta)=f(x,a,b,c)=a(x-b)^2+c $$\n",
    "We fit to find the optimal values of $ a,b,c $ that fit the data above."
   ]
  },
  {
   "cell_type": "code",
   "execution_count": 5,
   "metadata": {},
   "outputs": [],
   "source": [
    "# define the model function\n",
    "def model_f(x, b, a, c):\n",
    "    return a * (x - b) ** 2 + c\n",
    "\n",
    "\n",
    "# use scipy curve_fit function\n",
    "initial_guess = [3, 2, -16]  # a,b,c\n",
    "popt, pcov = curve_fit(model_f, x_data, y_data, p0=initial_guess)\n"
   ]
  },
  {
   "cell_type": "code",
   "execution_count": 6,
   "metadata": {},
   "outputs": [
    {
     "data": {
      "text/plain": [
       "array([  2.00492121,   4.92207992, -16.04690266])"
      ]
     },
     "execution_count": 6,
     "metadata": {},
     "output_type": "execute_result"
    }
   ],
   "source": [
    "popt # contain optimum a,b,c values"
   ]
  },
  {
   "cell_type": "markdown",
   "metadata": {},
   "source": [
    "pcov: the covariance matrix, which gives an estimate of the \"error\" of the parameters (based on how sensitive the \"goodness-of-fit\" is to changing them) and the relation the parameters have to eachother (are two seperate parameters really needed?)"
   ]
  },
  {
   "cell_type": "code",
   "execution_count": 7,
   "metadata": {},
   "outputs": [
    {
     "data": {
      "text/plain": [
       "array([[ 0.00222114, -0.01315915,  0.00322289],\n",
       "       [-0.01315915,  0.12827822, -0.07363194],\n",
       "       [ 0.00322289, -0.07363194,  0.13377697]])"
      ]
     },
     "execution_count": 7,
     "metadata": {},
     "output_type": "execute_result"
    }
   ],
   "source": [
    "pcov"
   ]
  },
  {
   "cell_type": "code",
   "execution_count": 8,
   "metadata": {},
   "outputs": [
    {
     "data": {
      "image/png": "[encoded data removed]",
      "text/plain": [
       "<Figure size 432x288 with 1 Axes>"
      ]
     },
     "metadata": {
      "needs_background": "light"
     },
     "output_type": "display_data"
    }
   ],
   "source": [
    "a_opt, b_opt, c_opt = popt\n",
    "x_model = np.linspace(np.min(x_data), np.max(x_data), 100)\n",
    "y_model = model_f(x_model, a_opt, b_opt, c_opt)\n",
    "\n",
    "plt.figure()\n",
    "plt.plot(x_data,y_data,'o')\n",
    "plt.plot(x_model, y_model, 'r.')\n",
    "plt.show()\n"
   ]
  },
  {
   "cell_type": "markdown",
   "metadata": {},
   "source": [
    "pcov is difficult to interpret, but we can do so as follows.\n",
    "\n",
    "the \"error\" of a parameter in the model is related to how sensitive the model is to that parameter. Does changing the parameter slightly give a better fit? (i.e. minimize $\\sum{(f(x_i,\\beta)-y_i)^2}$ )"
   ]
  },
  {
   "cell_type": "code",
   "execution_count": 9,
   "metadata": {},
   "outputs": [],
   "source": [
    "def fit_f(x, a, b, c, d):\n",
    "    return a * (x - b) ** 2 + c + d * 0.0001 * np.cos(x)\n",
    "\n",
    "\n",
    "initial_guess = [1, 2, -16, 1]  # a,b,c,d\n",
    "popt, pcov = curve_fit(fit_f, x_data, y_data, p0=initial_guess)\n"
   ]
  },
  {
   "cell_type": "code",
   "execution_count": 10,
   "metadata": {},
   "outputs": [
    {
     "data": {
      "text/plain": [
       "array([[ 1.45024174e-01, -4.03732594e-02,  4.08922441e-02,\n",
       "         3.05314996e+03],\n",
       "       [-4.03732594e-02,  7.20537355e-02, -3.07488421e-01,\n",
       "        -8.46751267e+03],\n",
       "       [ 4.08922441e-02, -3.07488421e-01,  1.52776232e+00,\n",
       "         3.78842426e+04],\n",
       "       [ 3.05314996e+03, -8.46751267e+03,  3.78842426e+04,\n",
       "         1.03326934e+09]])"
      ]
     },
     "execution_count": 10,
     "metadata": {},
     "output_type": "execute_result"
    }
   ],
   "source": [
    "pcov"
   ]
  },
  {
   "cell_type": "code",
   "execution_count": 11,
   "metadata": {},
   "outputs": [
    {
     "data": {
      "image/png": "[encoded data removed]",
      "text/plain": [
       "<Figure size 432x288 with 2 Axes>"
      ]
     },
     "metadata": {
      "needs_background": "light"
     },
     "output_type": "display_data"
    }
   ],
   "source": [
    "plt.figure()\n",
    "plt.imshow(np.log(np.abs(pcov)))\n",
    "plt.colorbar()\n",
    "plt.show()\n",
    "\n",
    "# see, the error on d is high and covarance is also high\n",
    "# so, changing it does not have a big effect on the model\n",
    "# get rid of it!"
   ]
  },
  {
   "cell_type": "markdown",
   "metadata": {},
   "source": [
    "# Examples"
   ]
  },
  {
   "cell_type": "code",
   "execution_count": 14,
   "metadata": {},
   "outputs": [],
   "source": [
    "# fitting a gausian curve \n",
    "\n",
    "df = pd.read_csv('data/curvefite1.csv')\n",
    "x_stuff = df.Channel\n",
    "y_stuff = df.Cs137"
   ]
  },
  {
   "cell_type": "code",
   "execution_count": 16,
   "metadata": {},
   "outputs": [
    {
     "data": {
      "image/png": "[encoded data removed]",
      "text/plain": [
       "<Figure size 432x288 with 1 Axes>"
      ]
     },
     "metadata": {
      "needs_background": "light"
     },
     "output_type": "display_data"
    }
   ],
   "source": [
    "plt.figure()\n",
    "plt.plot(x_stuff,y_stuff,'.')\n",
    "plt.show()"
   ]
  },
  {
   "cell_type": "markdown",
   "metadata": {},
   "source": [
    "This curve represents the photon spectrum of Cesium 137 (a common radioactive substance). The main curve represents the primary photon emission peak.\n",
    "\n",
    "- The mean value of the peak tells us about the energy of photons emitted.\n",
    "- The Width tells us about the resolution of the detector.\n",
    "\n",
    "Typically we fit peaks like this to Gaussian curves and use $\\mu$ and $\\sigma$ to extract information about the two points above.\n",
    "\n",
    "$$ f(x,A,\\mu,\\sigma)=Ae^{-(x-\\mu^2)/\\sigma^2} $$\n"
   ]
  },
  {
   "cell_type": "code",
   "execution_count": 24,
   "metadata": {},
   "outputs": [
    {
     "data": {
      "image/png": "[encoded data removed]",
      "text/plain": [
       "<Figure size 432x288 with 1 Axes>"
      ]
     },
     "metadata": {
      "needs_background": "light"
     },
     "output_type": "display_data"
    }
   ],
   "source": [
    "def gauss_f(x, A, mu, sig):\n",
    "    return A * np.exp(-((x - mu) ** 2) / sig**2)\n",
    "\n",
    "x_data = x_stuff[(x_stuff>725) & (x_stuff<850)]\n",
    "y_data = y_stuff[(x_stuff>725) & (x_stuff<850)]\n",
    "\n",
    "plt.figure()\n",
    "plt.plot(x_data,y_data,'.g')\n",
    "plt.show()"
   ]
  },
  {
   "cell_type": "code",
   "execution_count": 36,
   "metadata": {},
   "outputs": [
    {
     "data": {
      "image/png": "[encoded data removed]",
      "text/plain": [
       "<Figure size 432x288 with 1 Axes>"
      ]
     },
     "metadata": {
      "needs_background": "light"
     },
     "output_type": "display_data"
    }
   ],
   "source": [
    "p_opt, p_cov = curve_fit(gauss_f,x_data,y_data,p0=[2000,790,60])\n",
    "\n",
    "A_opt, mu_opt, sig_opt = p_opt\n",
    "x_model = np.linspace(min(x_data),max(x_data),1000)\n",
    "y_model = gauss_f(x_model,A_opt,mu_opt, sig_opt)\n",
    "\n",
    "plt.figure()\n",
    "plt.plot(x_model,y_model,'.r')\n",
    "plt.plot(x_data,y_data,'.g')\n",
    "plt.show()"
   ]
  },
  {
   "cell_type": "code",
   "execution_count": 37,
   "metadata": {},
   "outputs": [
    {
     "data": {
      "text/plain": [
       "array([1939.55510385,  786.33851861,   57.78717218])"
      ]
     },
     "execution_count": 37,
     "metadata": {},
     "output_type": "execute_result"
    }
   ],
   "source": [
    "p_opt"
   ]
  },
  {
   "cell_type": "code",
   "execution_count": 41,
   "metadata": {},
   "outputs": [
    {
     "data": {
      "image/png": "[encoded data removed]",
      "text/plain": [
       "<Figure size 432x288 with 2 Axes>"
      ]
     },
     "metadata": {
      "needs_background": "light"
     },
     "output_type": "display_data"
    }
   ],
   "source": [
    "plt.figure()\n",
    "plt.imshow(np.log(np.abs(p_cov)))\n",
    "plt.colorbar()\n",
    "plt.show()"
   ]
  },
  {
   "cell_type": "code",
   "execution_count": 42,
   "metadata": {},
   "outputs": [
    {
     "data": {
      "text/plain": [
       "array([5.70257763, 0.14401935, 0.26427165])"
      ]
     },
     "execution_count": 42,
     "metadata": {},
     "output_type": "execute_result"
    }
   ],
   "source": [
    "np.sqrt(np.diag(p_cov))\n",
    "\n",
    "# small errors on the parameters - that is great!"
   ]
  },
  {
   "cell_type": "code",
   "execution_count": null,
   "metadata": {},
   "outputs": [],
   "source": []
  }
 ],
 "metadata": {
  "interpreter": {
   "hash": "6ddd890daad9ccb684bff25183d61c9f8150c8b957a775d488269053124e5aa3"
  },
  "kernelspec": {
   "display_name": "Python 3.8.11 ('base')",
   "language": "python",
   "name": "python3"
  },
  "language_info": {
   "codemirror_mode": {
    "name": "ipython",
    "version": 3
   },
   "file_extension": ".py",
   "mimetype": "text/x-python",
   "name": "python",
   "nbconvert_exporter": "python",
   "pygments_lexer": "ipython3",
   "version": "3.8.11"
  },
  "orig_nbformat": 4
 },
 "nbformat": 4,
 "nbformat_minor": 2
}
